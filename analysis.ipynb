{
 "cells": [
  {
   "cell_type": "code",
   "execution_count": 1,
   "metadata": {
    "collapsed": false
   },
   "outputs": [
    {
     "name": "stdout",
     "output_type": "stream",
     "text": [
      "Syncing \"MSA_analysis.pyc\"\r\n",
      "Indexing \"MSA_analysis.pyc\"...\r\n"
     ]
    }
   ],
   "source": [
    "%matplotlib inline\n",
    "import EMPIRIC_analysis_EXP as emp\n",
    "import MSA_analysis as msa\n",
    "import pandas  as pd\n",
    "from scipy import stats as st\n",
    "# !pwd\n",
    "import matplotlib.pyplot as plt\n",
    "#!ls\n",
    "import numpy as np\n",
    "from Bio import SeqUtils\n",
    "\n",
    "aacids = list(SeqUtils.IUPAC.protein.letters)\n",
    "!dropbox.py status"
   ]
  },
  {
   "cell_type": "code",
   "execution_count": 2,
   "metadata": {
    "collapsed": false
   },
   "outputs": [
    {
     "name": "stdout",
     "output_type": "stream",
     "text": [
      "/data/home/venevs/Dropbox (UMASS MED - BIB)/TIM_EMPIRIC\n",
      "Syncing \"MSA_analysis.pyc\"\n",
      "Uploading \"MSA_analysis.pyc\"...\n"
     ]
    }
   ],
   "source": [
    "feat_fname = '../AccessDB-files/features-original.csv'\n",
    "data_fname = '../AccessDB-files/db-fitness.csv'\n",
    "# msa_fname  = '../AccessDB-files/uclust/PRALINE/alignment432_clust.fasta_ali'\n",
    "msa_fname = \"../AccessDB-files/IGPS_seq_Praline_align/new-PRALINE-aln.fasta\"\n",
    "# msa_fname = \"./PFam/PF00218_full-Aln_fixed.fasta\"\n",
    "\n",
    "!pwd\n",
    "!dropbox.py status"
   ]
  },
  {
   "cell_type": "code",
   "execution_count": 3,
   "metadata": {
    "collapsed": false,
    "scrolled": true
   },
   "outputs": [
    {
     "name": "stdout",
     "output_type": "stream",
     "text": [
      "Ss is located at following position in alignment:  0\n",
      "The following sequences must match, unless there is any trimming:\n",
      "NITAIIAEYKYAVGLSILTESIPILMKDFIGADTVLLIVKMEPLIEINDEGARFIGINSRSNVVKVAESGGVNAFLIGSS\n",
      "NITAIIAEYKYAVGLSILTESIPILMKDFIGADTVLLIVKMEPLIEINDEGARFIGINSRSNVVKVAESGGVNAFLIGSS\n",
      "[ 0.06816285  0.18662554  0.19873858  0.24730683  0.28630674  0.32083353\n",
      "  0.36283879  0.38953762  0.45016015  0.48372763  0.52079261  0.645065\n",
      "  0.82326553  0.87853224  0.97343841  1.04683379  1.17873082  1.8304112\n",
      "  3.16016019  5.94853196]\n",
      "\n",
      "variation explained by components for dataset:  Ss\n",
      "PC1 29.7%\n",
      "PC2 15.8%\n",
      "PC3 9.2%\n",
      "PC4 5.9%\n",
      "PC5 5.2%\n",
      "PC6 4.9%\n",
      "PC7 4.4%\n",
      "PC8 4.1%\n",
      "PC9 3.2%\n",
      "PC10 2.6%\n",
      "PC11 2.4%\n",
      "PC12 2.3%\n",
      "PC13 1.9%\n",
      "PC14 1.8%\n",
      "PC15 1.6%\n",
      "PC16 1.4%\n",
      "PC17 1.2%\n",
      "PC18 1.0%\n",
      "PC19 0.9%\n",
      "PC20 0.3%\n"
     ]
    }
   ],
   "source": [
    "mmm,count_matrix,raw_matrix,normal_matrix = msa.MSA_pipeline(feat_fname,msa_fname,dataset=['Ss',])\n",
    "## mmm = msa.MSA_pipeline(feat_fname,msa_fname,dataset=['Ss','Tm','Tt'])\n",
    "\n",
    "# print type(raw_matrix)\n",
    "# print type(normal_matrix)\n",
    "\n",
    "\n",
    "# mmm,raw_matrix,normal_matrix = msa.MSA_pipeline(feat_fname,msa_fname,dataset=['Ss','Tm','Tt'])\n",
    "## mmm = msa.MSA_pipeline(feat_fname,msa_fname,dataset=['Ss','Tm','Tt'])\n",
    "\n",
    "raw_matrix.to_csv('../AccessDB-files/uclust/PRALINE/raw.mat',index=False)\n",
    "normal_matrix.to_csv('../AccessDB-files/uclust/PRALINE/norm.mat',index=False)\n",
    "count_matrix.to_csv('../AccessDB-files/uclust/PRALINE/count.mat',index=False)\n",
    "\n",
    "# print type(normal_matrix)\n",
    "\n"
   ]
  },
  {
   "cell_type": "code",
   "execution_count": 4,
   "metadata": {
    "collapsed": false,
    "scrolled": true
   },
   "outputs": [
    {
     "name": "stdout",
     "output_type": "stream",
     "text": [
      "Checking is already done for structural alignments ...\n"
     ]
    },
    {
     "ename": "AttributeError",
     "evalue": "'tuple' object has no attribute 'reset_index'",
     "output_type": "error",
     "traceback": [
      "\u001b[1;31m---------------------------------------------------------------------------\u001b[0m",
      "\u001b[1;31mAttributeError\u001b[0m                            Traceback (most recent call last)",
      "\u001b[1;32m<ipython-input-4-1717ddeca7b0>\u001b[0m in \u001b[0;36m<module>\u001b[1;34m()\u001b[0m\n\u001b[1;32m----> 1\u001b[1;33m \u001b[0msss\u001b[0m \u001b[1;33m=\u001b[0m \u001b[0mmsa\u001b[0m\u001b[1;33m.\u001b[0m\u001b[0mMSSA_pipeline\u001b[0m\u001b[1;33m(\u001b[0m\u001b[0mfeat_fname\u001b[0m\u001b[1;33m,\u001b[0m\u001b[0mmsa_fname\u001b[0m\u001b[1;33m,\u001b[0m\u001b[0mdataset\u001b[0m\u001b[1;33m=\u001b[0m\u001b[1;33m[\u001b[0m\u001b[1;34m'Ss'\u001b[0m\u001b[1;33m,\u001b[0m\u001b[1;34m'Tm'\u001b[0m\u001b[1;33m,\u001b[0m\u001b[1;34m'Tt'\u001b[0m\u001b[1;33m]\u001b[0m\u001b[1;33m)\u001b[0m\u001b[1;33m\u001b[0m\u001b[0m\n\u001b[0m\u001b[0;32m      2\u001b[0m \u001b[1;31m## mmm.fillna?\u001b[0m\u001b[1;33m\u001b[0m\u001b[1;33m\u001b[0m\u001b[0m\n",
      "\u001b[1;32m/data/home/venevs/Dropbox (UMASS MED - BIB)/TIM_EMPIRIC/MSA_analysis.py\u001b[0m in \u001b[0;36mMSSA_pipeline\u001b[1;34m(reference_lib_fname, aln_fname, dataset)\u001b[0m\n\u001b[0;32m    386\u001b[0m         \u001b[1;31m#\u001b[0m\u001b[1;33m\u001b[0m\u001b[1;33m\u001b[0m\u001b[0m\n\u001b[0;32m    387\u001b[0m         \u001b[1;31m# print matrix\u001b[0m\u001b[1;33m\u001b[0m\u001b[1;33m\u001b[0m\u001b[0m\n\u001b[1;32m--> 388\u001b[1;33m         \u001b[0mvar_dict\u001b[0m\u001b[1;33m,\u001b[0m \u001b[0mPC_dict\u001b[0m \u001b[1;33m=\u001b[0m \u001b[0mrunPCA\u001b[0m\u001b[1;33m(\u001b[0m\u001b[0mmatrix\u001b[0m\u001b[1;33m)\u001b[0m\u001b[1;33m\u001b[0m\u001b[0m\n\u001b[0m\u001b[0;32m    389\u001b[0m         \u001b[1;31m# print fraction of variability the PCs explain ...\u001b[0m\u001b[1;33m\u001b[0m\u001b[1;33m\u001b[0m\u001b[0m\n\u001b[0;32m    390\u001b[0m         \u001b[1;32mprint\u001b[0m\u001b[1;33m\u001b[0m\u001b[0m\n",
      "\u001b[1;32m/data/home/venevs/Dropbox (UMASS MED - BIB)/TIM_EMPIRIC/MSA_analysis.py\u001b[0m in \u001b[0;36mrunPCA\u001b[1;34m(dat)\u001b[0m\n\u001b[0;32m    228\u001b[0m     \u001b[1;31m#\u001b[0m\u001b[1;33m\u001b[0m\u001b[1;33m\u001b[0m\u001b[0m\n\u001b[0;32m    229\u001b[0m     \u001b[1;31m# get matrix from data ...\u001b[0m\u001b[1;33m\u001b[0m\u001b[1;33m\u001b[0m\u001b[0m\n\u001b[1;32m--> 230\u001b[1;33m     \u001b[0mraw_matrix\u001b[0m \u001b[1;33m=\u001b[0m \u001b[0mdat\u001b[0m\u001b[1;33m.\u001b[0m\u001b[0mreset_index\u001b[0m\u001b[1;33m(\u001b[0m\u001b[0mdrop\u001b[0m\u001b[1;33m=\u001b[0m\u001b[0mTrue\u001b[0m\u001b[1;33m)\u001b[0m\u001b[1;33m\u001b[0m\u001b[0m\n\u001b[0m\u001b[0;32m    231\u001b[0m     \u001b[1;31m# print raw_matrix\u001b[0m\u001b[1;33m\u001b[0m\u001b[1;33m\u001b[0m\u001b[0m\n\u001b[0;32m    232\u001b[0m     \u001b[1;31m# normalize the matrix ...\u001b[0m\u001b[1;33m\u001b[0m\u001b[1;33m\u001b[0m\u001b[0m\n",
      "\u001b[1;31mAttributeError\u001b[0m: 'tuple' object has no attribute 'reset_index'"
     ]
    }
   ],
   "source": [
    "sss = msa.MSSA_pipeline(feat_fname,msa_fname,dataset=['Ss','Tm','Tt'])\n",
    "## mmm.fillna?"
   ]
  },
  {
   "cell_type": "code",
   "execution_count": null,
   "metadata": {
    "collapsed": false,
    "scrolled": true
   },
   "outputs": [],
   "source": [
    "# merged_dat\n",
    "rrrs,proj_ws = emp.EMPIRIC_pipeline_separate(feat_fname, data_fname, dataset=['Ss','Tm','Tt'])\n",
    "\n",
    "rrrj,proj_wj = emp.EMPIRIC_pipeline_joint(feat_fname, data_fname, dataset=['Ss','Tm','Tt'])\n",
    "\n",
    "# # dat = pd.read_csv(data_fname)\n",
    "# # emp.filterDataset(dat, dataset=['Ss','Tm','Tt'])\n",
    "# # pd.merge?\n",
    "# # len(emp.aacids)\n",
    "# list(rrr.columns)\n",
    "\n",
    "rrrs['fitness'] = rrrs[aacids].mean(axis=1)\n",
    "rrrs['min_fitness'] = rrrs[aacids].min(axis=1)\n",
    "rrrs['max_fitness'] = rrrs[aacids].max(axis=1)\n",
    "\n",
    "rrrj['fitness'] = rrrj[aacids].mean(axis=1)\n",
    "rrrj['min_fitness'] = rrrj[aacids].min(axis=1)\n",
    "rrrj['max_fitness'] = rrrj[aacids].max(axis=1)\n",
    "\n",
    "hhh_emp = ['wtKD','fitness','min_fitness','max_fitness','PC1','PC2','PC3','PC4','align_b_1-12']\n",
    "\n",
    "hhh_msa = ['wtKD','ic','perc_cons','gaps_profile','PC1','PC2','PC3','align_bab_1-22','align_b_1-12']\n",
    "\n",
    "\n",
    "\n",
    "hhh=['align_orth_1-82',\n",
    " 'align_bab_1-22',\n",
    " 'align_b_1-12',\n",
    " 'struct_021',\n",
    " 'Loop-Type',\n",
    " 'beta_inout',\n",
    " 'conservation',\n",
    " 'cataylsis',\n",
    " 'binding',\n",
    " 'ilvcluster','wtKD']"
   ]
  },
  {
   "cell_type": "markdown",
   "metadata": {},
   "source": [
    "## Where all these eigenvectors are pointing anyways? ...\n",
    "\n",
    "'Tm' fails to be collinear with others 3rd component direction.\n",
    "For the rest of them, first 2 eigenvectors are collinear between 'Tt','Ss' and even the joint analysis.\n"
   ]
  },
  {
   "cell_type": "code",
   "execution_count": null,
   "metadata": {
    "collapsed": false
   },
   "outputs": [],
   "source": [
    "# st.linregress?\n",
    "#proj_ws['Ss'],proj_wj\n",
    "# np.dot(proj_ws['Tt'],proj_wj).shape\n",
    "#  proj_wj[:,0]\n",
    "plt.imshow(np.dot(proj_wj.T,proj_ws['Tm']),interpolation='nearest',cmap='BrBG',vmin=-0.99,vmax=0.99)\n",
    "#  proj_ws['Ss'][:,0]"
   ]
  },
  {
   "cell_type": "markdown",
   "metadata": {},
   "source": [
    "## Colored scatters for EMPIRIC data"
   ]
  },
  {
   "cell_type": "code",
   "execution_count": null,
   "metadata": {
    "collapsed": false,
    "scrolled": false
   },
   "outputs": [],
   "source": [
    "def getScatter(hhh, rrr):\n",
    "    color_map_name = 'rainbow'\n",
    "    #plot layout\n",
    "    numfeatures = len(hhh) #skip first 22 rows: 20 aa, org-pos, and wtaa identifiers\n",
    "    numColumns = 3\n",
    "    numRows = ((numfeatures-1)//numColumns)+1 #ceiling function\n",
    "    remainder = numfeatures - numRows*numColumns\n",
    "\n",
    "    fig = plt.figure(figsize=(15, 15), facecolor='w', edgecolor='k')\n",
    "    fig.subplots_adjust(hspace=.8)\n",
    "    x='PC1'\n",
    "    y='PC2'\n",
    "    \n",
    "    for i in range(numfeatures):\n",
    "        ax = fig.add_subplot(numRows,numColumns,i+1)\n",
    "        cfeature = str(hhh[i])\n",
    "        vmin,vmax = rrr[cfeature].min(),rrr[cfeature].max()\n",
    "        ax.set_title('%s' %cfeature)\n",
    "        ax.set_xlabel(x)\n",
    "        ax.set_ylabel(y)\n",
    "        scat_obj = ax.scatter(rrr[x], rrr[y], s=50, cmap=color_map_name, c=rrr[cfeature],vmin=vmin,vmax=vmax)\n",
    "        fig.colorbar(scat_obj)    \n",
    "#     plt.suptitle('PC%d vs PC%d - %s' %(pc1_nom, pc2_nom,dataset), size = 16)\n",
    "#     fig.savefig('PC%dvsPC%d-colorbyvariable-%s.pdf' %(pc1_nom, pc2_nom, dataset))\n",
    "\n",
    "\n",
    "def sc(x,y,ax=None):\n",
    "    a,b,r,p,_ = st.linregress(x,y)\n",
    "    if ax is None:\n",
    "        plt.plot(x,y,'ro')\n",
    "        plt.plot(x,a*x+b,'b-',label=\"r=%.3f, p=%.3f\"%(r,p))\n",
    "        plt.legend(frameon=False)\n",
    "    else:\n",
    "        ax.plot(x,y,'ro')\n",
    "        ax.plot(x,a*x+b,'b-',label=\"r=%.3f, p=%.3f\"%(r,p))\n",
    "        ax.legend(frameon=False)\n",
    "\n",
    "\n",
    "\n",
    "def getLinReg(hhh, rrr, y='PC1'):\n",
    "    numfeatures = len(hhh) #skip first 22 rows: 20 aa, org-pos, and wtaa identifiers\n",
    "    numColumns = 3\n",
    "    numRows = ((numfeatures-1)//numColumns)+1 #ceiling function\n",
    "    remainder = numfeatures - numRows*numColumns\n",
    "    #########################\n",
    "    fig = plt.figure(figsize=(15, 15), facecolor='w', edgecolor='k')\n",
    "    fig.subplots_adjust(hspace=.8)\n",
    "    #########################\n",
    "    for i in range(numfeatures):\n",
    "        #############################################\n",
    "        #\n",
    "        ax = fig.add_subplot(numRows,numColumns,i+1)\n",
    "        cfeature = str(hhh[i])\n",
    "        ax.set_xlabel('%s' %cfeature)\n",
    "        ax.set_ylabel(y)\n",
    "        sc(rrr[cfeature],rrr[y],ax=ax)\n",
    "        #\n",
    "        ##############################################\n",
    "    fig.tight_layout()\n",
    "\n",
    "\n",
    "\n",
    "\n",
    "\n",
    "\n",
    "getScatter(hhh,rrrj)\n",
    "\n",
    "# for i in rrr.columns:\n",
    "#     print i\n",
    "print (rrrj['res_num'] ==rrrj['pos'].apply(int)).all()\n",
    "print rrrj['res_num'].head()\n",
    "print rrrj['pos'].head()"
   ]
  },
  {
   "cell_type": "code",
   "execution_count": null,
   "metadata": {
    "collapsed": false,
    "scrolled": true
   },
   "outputs": [],
   "source": [
    "# mmm.head()\n",
    "\n",
    "hhh=['align_orth_1-82',\n",
    " 'align_bab_1-22',\n",
    " 'align_b_1-12',\n",
    " 'struct_021',\n",
    " 'Loop-Type',\n",
    " 'beta_inout',\n",
    " 'conservation',\n",
    " 'cataylsis',\n",
    " 'ic',\n",
    " 'ilvcluster','wtKD']\n",
    "\n",
    "# getScatter(hhh,mmm.iloc[:80])\n",
    "getScatter(hhh,mmm[mmm.organism=='Ss'])"
   ]
  },
  {
   "cell_type": "code",
   "execution_count": null,
   "metadata": {
    "collapsed": false,
    "scrolled": true
   },
   "outputs": [],
   "source": [
    "# mmm.head()\n",
    "\n",
    "hhh=['align_orth_1-82',\n",
    " 'align_bab_1-22',\n",
    " 'align_b_1-12',\n",
    " 'struct_021',\n",
    " 'Loop-Type',\n",
    " 'beta_inout',\n",
    " 'conservation',\n",
    " 'cataylsis',\n",
    " 'ic',\n",
    " 'ilvcluster','wtKD']\n",
    "\n",
    "getScatter(hhh,sss[sss.organism=='Ss'])"
   ]
  },
  {
   "cell_type": "markdown",
   "metadata": {},
   "source": [
    "## EMPIRIC components are compared with features\n",
    "\n",
    "Compare PC from EMPIRIC PCA to see if any of the components has any clear interpretation..."
   ]
  },
  {
   "cell_type": "code",
   "execution_count": null,
   "metadata": {
    "collapsed": false,
    "scrolled": true
   },
   "outputs": [],
   "source": [
    "getLinReg(hhh_emp, rrrs[rrrs['organism']=='Tm'], y='PC2')"
   ]
  },
  {
   "cell_type": "markdown",
   "metadata": {},
   "source": [
    "## MSA components are compared with features\n",
    "\n",
    "Compare PC from MSA and MSSA PCA to see if any of the components has any clear interpretation..."
   ]
  },
  {
   "cell_type": "code",
   "execution_count": null,
   "metadata": {
    "collapsed": false,
    "scrolled": true
   },
   "outputs": [],
   "source": [
    "getLinReg(hhh_msa, mmm[mmm['organism']=='Ss'], y='PC1')"
   ]
  },
  {
   "cell_type": "code",
   "execution_count": null,
   "metadata": {
    "collapsed": false
   },
   "outputs": [],
   "source": [
    "def get_R(x,y):\n",
    "    _,_,r,_,_ = st.linregress(x,y)\n",
    "    return r\n",
    "\n",
    "def pc_corr(xv,yv,feats=['PC1','PC2','PC3']):\n",
    "    pcr_mat = {}\n",
    "    for pci in feats:\n",
    "        pcr_mat[pci] = {}\n",
    "        for pcj in feats:\n",
    "            pcr_mat[pci][pcj] = get_R(xv[pci],yv[pcj])\n",
    "    pcr_mat = pd.DataFrame(pcr_mat,index=feats,columns=feats)\n",
    "#     print pcr_mat\n",
    "#     import numpy as np\n",
    "    plt.imshow((pcr_mat),interpolation='nearest',cmap='PiYG_r',vmin=-0.6,vmax=+0.6)\n",
    "    return pcr_mat\n",
    "######################################\n",
    "sss.shape\n",
    "org = 'Tt'\n",
    "######################################\n",
    "tim = sss[sss.organism==org]\n",
    "mscan = rrrs[rrrs.organism==org]\n",
    "praline = mmm[mmm.organism==org]\n",
    "########################################\n",
    "x,y = praline,mscan\n",
    "# # x,y = rrr['PC1'].iloc[:80],mmm['PC2'].iloc[:80]\n",
    "# # print len(x)\n",
    "# sc(x,y)\n",
    "# # import numpy as np\n",
    "# # plt.figure(figsize=(21,3))\n",
    "# # plt.bar(range(len(y)),(y))\n",
    "# # plt.ylim((-1.8,-3.0))\n",
    "pc_corr(x,y,feats=['PC1','PC2','PC3'])\n"
   ]
  },
  {
   "cell_type": "code",
   "execution_count": null,
   "metadata": {
    "collapsed": true
   },
   "outputs": [],
   "source": [
    "# # SAVING RESULTS TO FILE ...\n",
    "# rrr.to_csv('EMPIRIC_PROCESSED.csv',index=False)\n",
    "# sss.to_csv('TIM_MSSA_PROCESSED.csv',index=False)\n",
    "# mmm.to_csv('IGPS_PROCESSED.csv',index=False)"
   ]
  },
  {
   "cell_type": "code",
   "execution_count": null,
   "metadata": {
    "collapsed": false
   },
   "outputs": [],
   "source": [
    "\n",
    "organism = 'Ss'\n",
    "\n",
    "msa_res = mmm[mmm.organism==organism]\n",
    "mssa_res = sss[sss.organism==organism]\n",
    "\n",
    "x,y = msa_res['perc_cons'],mssa_res['perc_cons']\n",
    "# x,y = rrr[''],mssa_res['perc_cons']\n",
    "# x,y = rrr['PC1'].iloc[:80],mmm['PC2'].iloc[:80]\n",
    "# print len(x)\n",
    "\n",
    "plt.plot(x,y,'ro')\n",
    "a,b,r,p,_ = st.linregress(x,y)\n",
    "plt.plot(x,a*x+b,'b-',label=str(r))\n",
    "plt.legend(frameon=False)\n",
    "\n",
    "# list(msa_res.columns)\n"
   ]
  },
  {
   "cell_type": "code",
   "execution_count": null,
   "metadata": {
    "collapsed": false
   },
   "outputs": [],
   "source": [
    "\n",
    "organism1,organism2 = 'Tt','Ss'\n",
    "\n",
    "o1 = rrr[rrr.organism==organism1]\n",
    "o2 = rrr[rrr.organism==organism2]\n",
    "\n",
    "feature_name = 'PC1' \n",
    "x,y = o1[feature_name], o2[feature_name]\n",
    "# x,y = rrr['PC1'].iloc[:80],mmm['PC2'].iloc[:80]\n",
    "# print len(x)\n",
    "\n",
    "plt.plot(x,y,'ro')\n",
    "a,b,r,p,_ = st.linregress(x,y)\n",
    "plt.plot(x,a*x+b,'b-',label=str(r))\n",
    "plt.legend(frameon=False)\n",
    "\n",
    "\n",
    "# list(o1.columns)\n"
   ]
  },
  {
   "cell_type": "code",
   "execution_count": null,
   "metadata": {
    "collapsed": true
   },
   "outputs": [],
   "source": []
  },
  {
   "cell_type": "code",
   "execution_count": null,
   "metadata": {
    "collapsed": true
   },
   "outputs": [],
   "source": []
  },
  {
   "cell_type": "code",
   "execution_count": null,
   "metadata": {
    "collapsed": true
   },
   "outputs": [],
   "source": []
  }
 ],
 "metadata": {
  "kernelspec": {
   "display_name": "Python 2",
   "language": "python",
   "name": "python2"
  },
  "language_info": {
   "codemirror_mode": {
    "name": "ipython",
    "version": 2
   },
   "file_extension": ".py",
   "mimetype": "text/x-python",
   "name": "python",
   "nbconvert_exporter": "python",
   "pygments_lexer": "ipython2",
   "version": "2.7.6"
  }
 },
 "nbformat": 4,
 "nbformat_minor": 0
}
